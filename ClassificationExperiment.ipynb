{
 "cells": [
  {
   "cell_type": "code",
   "execution_count": 1,
   "metadata": {},
   "outputs": [
    {
     "name": "stdout",
     "output_type": "stream",
     "text": [
      "(517, 14) (517,)\n",
      "loss = 169.139959\n",
      "accuracy = 0.514507\n",
      "loss = 157.624355\n",
      "accuracy = 0.535783\n",
      "loss = 147.160559\n",
      "accuracy = 0.555126\n",
      "loss = 138.490450\n",
      "accuracy = 0.580271\n",
      "loss = 130.678507\n",
      "accuracy = 0.599613\n",
      "loss = 123.658200\n",
      "accuracy = 0.624758\n",
      "loss = 117.657710\n",
      "accuracy = 0.642166\n",
      "loss = 112.530012\n",
      "accuracy = 0.661509\n",
      "loss = 207.754812\n",
      "accuracy = 0.537572\n",
      "loss = 201.626250\n",
      "accuracy = 0.537572\n",
      "loss = 195.920635\n",
      "accuracy = 0.537572\n",
      "loss = 190.482144\n",
      "accuracy = 0.549133\n",
      "loss = 185.448114\n",
      "accuracy = 0.560694\n",
      "loss = 180.563532\n",
      "accuracy = 0.583815\n",
      "loss = 175.794499\n",
      "accuracy = 0.595376\n",
      "loss = 171.099450\n",
      "accuracy = 0.618497\n"
     ]
    },
    {
     "data": {
      "image/png": "[encoded data removed]",
      "text/plain": [
       "<matplotlib.figure.Figure at 0x2f2dd379080>"
      ]
     },
     "metadata": {},
     "output_type": "display_data"
    }
   ],
   "source": [
    "import numpy as np\n",
    "from matplotlib import pyplot as plt\n",
    "from sklearn.datasets import load_svmlight_file\n",
    "from sklearn.model_selection import train_test_split\n",
    "\n",
    "def loadDataset():\n",
    "    # 读取数据\n",
    "    X,y=load_svmlight_file(\"D:\\\\machine learning\\experiment\\data\\Australian_scale.txt\")\n",
    "    #将稀疏矩阵转化为完整特征矩阵\n",
    "    X = X.todense()\n",
    "    # 将数据集切分为训练集和验证集 \n",
    "    X_train, X_validation, y_train, y_validation = train_test_split(X, y, random_state=0)\n",
    "    print(X_train.shape,y_train.shape)\n",
    "    return X_train, X_validation, y_train, y_validation\n",
    "\n",
    "def gradientDescent(alpha,maxCycles,X_data,y_data):\n",
    "    num = y_data.shape[0]    #样本数量\n",
    "    # 线性模型参数正态分布初始化\n",
    "    w = np.random.normal(size=(X_data.shape[1]))\n",
    "    b = np.random.normal(size=1)\n",
    "    losses = []\n",
    "    tv = 0 \n",
    "    ''' #选择合适的阈值\n",
    "\t# cat_truth = np.zeros(num)\n",
    "\t# cat = np.zeros(num)\n",
    "\t# for i in range(num):\n",
    "\t# \tif y_data[i] > tv :\n",
    "\t# \t\tcat_truth[i] = 1    #大于阈值的标记为正类\n",
    "\t# \telse: cat_truth[i] = -1    #小于阈值的标记为正类\n",
    "    '''\n",
    "    # 迭代次maxCycles次\n",
    "    for n in range(maxCycles):\n",
    "\t    grad_w = np.ones(X_data.shape[1])*(np.linalg.norm(w,ord=2))\n",
    "\t    grad_b = np.zeros(1)\n",
    "\t    loss = np.power(np.linalg.norm(w,ord=2),2) / 2    #求w的第二范式\n",
    "\t    error = 0\n",
    "\t    C = np.power(2,7)\n",
    "\t    for i in range(num):\n",
    "\t    \ty = np.dot( X_data[i][0].getA()[0], w ) + b\n",
    "\t    \tif y_data[i] * y < 1:\n",
    "\t    \t\tloss += C * max(0,1 - y_data[i] * y) / num\n",
    "\t    \t\tgrad_w += - C * y_data[i] * X_data[i][0].getA()[0] / num\n",
    "\t    \t\tgrad_b += - C * y_data[i] / num\n",
    "\t    \tif y > tv :\n",
    "\t    \t\ty = 1    #标记为正类\n",
    "\t    \telse: y = -1    #标记为负类\n",
    "\t    \tif not y == y_data[i]:\n",
    "\t    \t\terror += 1\n",
    "\t    # 更新模型参数\n",
    "\t    w -= alpha * grad_w\n",
    "\t    b -= alpha * grad_b\n",
    "\t    losses.append(loss)\n",
    "\t    print(\"loss = %f\" % loss)\n",
    "\t    print(\"accuracy = %f\" % (1-error/num))\n",
    "    return losses\n",
    "\n",
    "def plotLossPerTime(n,losses_train,losses_validation):\n",
    "    plt.xlabel('iteration times')\n",
    "    plt.ylabel('loss of train or validation')\n",
    "    plt.title('linear classification & gradient decrease')\n",
    "    n_cycles = range(1, n+1)\n",
    "    plt.plot(n_cycles, losses_train, label = \"Loss of Train\", color='blue', linewidth=3)\n",
    "    plt.plot(n_cycles, losses_validation, label = \"Loss of Validation\", color='red', linewidth=3)\n",
    "    plt.legend(loc=0)\n",
    "    plt.grid()\n",
    "    plt.show()\n",
    "\n",
    "\n",
    "# main\n",
    "X_train, X_validation, y_train, y_validation = loadDataset()\n",
    "alpha = 0.001\n",
    "maxCycles = 8\n",
    "losses_train = gradientDescent(alpha, maxCycles, X_train, y_train)\n",
    "losses_validation = gradientDescent(alpha, maxCycles, X_validation, y_validation)\n",
    "plotLossPerTime(maxCycles, losses_train, losses_validation)"
   ]
  },
  {
   "cell_type": "code",
   "execution_count": null,
   "metadata": {
    "collapsed": true
   },
   "outputs": [],
   "source": []
  }
 ],
 "metadata": {
  "kernelspec": {
   "display_name": "Python 3",
   "language": "python",
   "name": "python3"
  },
  "language_info": {
   "codemirror_mode": {
    "name": "ipython",
    "version": 3
   },
   "file_extension": ".py",
   "mimetype": "text/x-python",
   "name": "python",
   "nbconvert_exporter": "python",
   "pygments_lexer": "ipython3",
   "version": "3.6.3"
  }
 },
 "nbformat": 4,
 "nbformat_minor": 2
}
